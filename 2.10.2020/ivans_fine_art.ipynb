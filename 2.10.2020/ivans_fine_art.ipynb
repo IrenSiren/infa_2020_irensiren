{
  "nbformat": 4,
  "nbformat_minor": 0,
  "metadata": {
    "colab": {
      "name": "ivans_fine_art",
      "provenance": [],
      "authorship_tag": "ABX9TyMcHCfxiP53TwX3ujPrbopr",
      "include_colab_link": true
    },
    "kernelspec": {
      "name": "python3",
      "display_name": "Python 3"
    }
  },
  "cells": [
    {
      "cell_type": "markdown",
      "metadata": {
        "id": "view-in-github",
        "colab_type": "text"
      },
      "source": [
        "<a href=\"https://colab.research.google.com/github/IrenSiren/infa_2020_irensiren/blob/master/ivans_fine_art.ipynb\" target=\"_parent\"><img src=\"https://colab.research.google.com/assets/colab-badge.svg\" alt=\"Open In Colab\"/></a>"
      ]
    },
    {
      "cell_type": "code",
      "metadata": {
        "id": "sla0sdqHdkhU",
        "outputId": "454d514e-deb1-487a-fcf8-035c504d53f7",
        "colab": {
          "base_uri": "https://localhost:8080/",
          "height": 122
        }
      },
      "source": [
        "!pip install pygame"
      ],
      "execution_count": 2,
      "outputs": [
        {
          "output_type": "stream",
          "text": [
            "Collecting pygame\n",
            "\u001b[?25l  Downloading https://files.pythonhosted.org/packages/8e/24/ede6428359f913ed9cd1643dd5533aefeb5a2699cc95bea089de50ead586/pygame-1.9.6-cp36-cp36m-manylinux1_x86_64.whl (11.4MB)\n",
            "\u001b[K     |████████████████████████████████| 11.4MB 7.2MB/s \n",
            "\u001b[?25hInstalling collected packages: pygame\n",
            "Successfully installed pygame-1.9.6\n"
          ],
          "name": "stdout"
        }
      ]
    },
    {
      "cell_type": "code",
      "metadata": {
        "id": "x6FaNaEqdY_u"
      },
      "source": [
        "import pygame\n",
        "import cv2\n",
        "from google.colab.patches import cv2_imshow\n",
        "from google.colab import output\n",
        "import time \n",
        "import os, sys\n",
        "os.environ[\"SDL_VIDEODRIVER\"] = \"dummy\"\n",
        "\n",
        "pygame.init()\n",
        "\n",
        "done = False\n",
        "is_blue = True\n",
        "\n",
        "\n",
        "\n",
        "# names of the colors\n",
        "purple = (145, 78, 178)\n",
        "yellow = (255, 255, 0)\n",
        "red = (155, 30, 30)\n",
        "orange = (250, 150, 0)\n",
        "light_yellow = (240, 187, 74)\n",
        "pink = (255, 199, 199)\n",
        "\n",
        "# sizes\n",
        "SCALE = 0.5\n",
        "SCREEN_WIDTH = round(2500 * SCALE)\n",
        "SCREEN_HEIGHT = round(1667 * SCALE)\n",
        "SUN_RADIUS = round(140 * SCALE)\n",
        "\n",
        "# colors of the parts\n",
        "SUN_COLOR = yellow\n",
        "BACKGROUND_1_COLOR = light_yellow\n",
        "BACKGROUND_2_COLOR = pink\n",
        "BACKGROUND_3_COLOR = light_yellow\n",
        "BACKGROUND_4_COLOR = purple\n",
        "MOUNTAINS_1_COLOR = orange\n",
        "MOUNTAINS_2_COLOR = red\n",
        "\n",
        "# position of the parts\n",
        "SUN_POSITION = round(1175 * SCALE), round(360 * SCALE)\n",
        "BACKGROUND_2_POSITION = round(360 * SCALE)\n",
        "BACKGROUND_3_POSITION = round(715 * SCALE)\n",
        "BACKGROUND_4_POSITION = round(1100 * SCALE)\n",
        "MOUNTAINS_1_COORDINATES = [[0, 715], [0, 678], [300, 500], [608, 300], [652, 419], [960, 629],\n",
        "                           [1127, 603], [1211, 648], [1335, 529], [1440, 554], [1501, 500], [1819, 264],\n",
        "                           [1869, 305], [1982, 411], [2072, 392], [2242, 476], [2325, 430], [2500, 715]]\n",
        "MOUNTAINS_2_COORDINATES = [[0, 832], [64, 864], [221, 669], [433, 1066], [545, 879], [721, 974], [800, 752], [1021, 800],\n",
        "                           [1200, 932], [1433, 884], [1712, 680], [2041, 883], [2152, 750], [2254, 821], [2304, 740],\n",
        "                           [2402, 750], [2500, 590], [2500, 1100], [0, 1129]]\n",
        "# rescaling of coordinates of mountains\n",
        "for point in MOUNTAINS_1_COORDINATES:\n",
        "    point[0] = round(point[0] * SCALE)\n",
        "    point[1] = round(point[1] * SCALE)\n",
        "for point in MOUNTAINS_2_COORDINATES:\n",
        "    point[0] = round(point[0] * SCALE)\n",
        "    point[1] = round(point[1] * SCALE)\n",
        "# this function draws inclined rectangle\n",
        "def background(width, hight, back_1, back_2, back_3, back_4):\n",
        "  '''\n",
        "  This function draws background \n",
        "  ----------\n",
        "  width - int - wideness of screen\n",
        "  hight - int - height of screen\n",
        "  back_1 - int - y position of the beginning of 1st bg\n",
        "  back_2 - int - y position of the beginning of 2nd bg\n",
        "  back_3 - int - y position of the beginning of 3rd bg\n",
        "  back_4 - int - y position of the beginning of 4th bg\n",
        "  '''\n",
        "  pygame.draw.rect(screen, BACKGROUND_1_COLOR, (0, 0, width, back_2 - back_1))\n",
        "  pygame.draw.rect(screen, BACKGROUND_2_COLOR, (0, back_2, width, back_3 - back_2))\n",
        "  pygame.draw.rect(screen, BACKGROUND_3_COLOR, (0, back_3, width, back_4 - back_3))\n",
        "  pygame.draw.rect(screen, BACKGROUND_4_COLOR, (0, back_4, width, hight - back_3))\n",
        "\n",
        "\n",
        "def mountains(M1, M2):\n",
        "  '''\n",
        "  This function draws mountains\n",
        "  ---------\n",
        "  M1 - list - (x,y) coordinates of 1st mount \n",
        "  M2 - list - (x,y) coordinates of 2nd mount \n",
        "  '''\n",
        "\n",
        "  pygame.draw.polygon(screen, MOUNTAINS_1_COLOR, M1)\n",
        "  pygame.draw.polygon(screen, MOUNTAINS_2_COLOR, M2)\n",
        "\n",
        "\n",
        "def sun(sun_pos, r):\n",
        "  '''\n",
        "  This function draws sun\n",
        "  ---------\n",
        "  sun_pos - tuple - (x,y) coordinates of sun centre\n",
        "  r - int - sun radius\n",
        "  '''\n",
        "  pygame.draw.circle(screen, SUN_COLOR, sun_pos, r)\n",
        "\n",
        "\n",
        "\n",
        "\n",
        "# screen\n",
        "screen = pygame.display.set_mode((SCREEN_WIDTH, SCREEN_HEIGHT))\n",
        "\n",
        "while not done:\n",
        "        for event in pygame.event.get():\n",
        "                if event.type == pygame.QUIT:\n",
        "                        done = True\n",
        "        background(SCREEN_WIDTH, SCREEN_HEIGHT, 0, BACKGROUND_2_POSITION, BACKGROUND_3_POSITION , BACKGROUND_4_POSITION)                     \n",
        "        mountains(MOUNTAINS_1_COORDINATES, MOUNTAINS_2_COORDINATES)\n",
        "        sun(SUN_POSITION, SUN_RADIUS)\n",
        "\n",
        "        pygame.display.flip()\n",
        "        view = pygame.surfarray.array3d(screen)\n",
        "        view = view.transpose([1, 0, 2])\n",
        "        img_bgr = cv2.cvtColor(view, cv2.COLOR_RGB2BGR)\n",
        "        cv2_imshow(img_bgr)\n",
        "        time.sleep(0.1)\n",
        "        output.clear()\n"
      ],
      "execution_count": null,
      "outputs": []
    },
    {
      "cell_type": "code",
      "metadata": {
        "id": "x__9GF5Gt_qZ",
        "outputId": "4ba13618-01cd-41fd-9a46-78590922593e",
        "colab": {
          "base_uri": "https://localhost:8080/",
          "height": 34
        }
      },
      "source": [
        "a=3,5\n",
        "print(type(a))"
      ],
      "execution_count": 27,
      "outputs": [
        {
          "output_type": "stream",
          "text": [
            "<class 'tuple'>\n"
          ],
          "name": "stdout"
        }
      ]
    }
  ]
}
