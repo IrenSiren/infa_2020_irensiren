{
  "nbformat": 4,
  "nbformat_minor": 0,
  "metadata": {
    "colab": {
      "name": "rabbit.ipynb",
      "provenance": [],
      "authorship_tag": "ABX9TyNQd1cxXsNridnCobn8BfYH",
      "include_colab_link": true
    },
    "kernelspec": {
      "name": "python3",
      "display_name": "Python 3"
    }
  },
  "cells": [
    {
      "cell_type": "markdown",
      "metadata": {
        "id": "view-in-github",
        "colab_type": "text"
      },
      "source": [
        "<a href=\"https://colab.research.google.com/github/IrenSiren/infa_2020_irensiren/blob/master/rabbit.ipynb\" target=\"_parent\"><img src=\"https://colab.research.google.com/assets/colab-badge.svg\" alt=\"Open In Colab\"/></a>"
      ]
    },
    {
      "cell_type": "code",
      "metadata": {
        "id": "17mEzScCT4zl",
        "outputId": "aea5a949-1533-4c82-ce5f-f106aa67fe7b",
        "colab": {
          "base_uri": "https://localhost:8080/",
          "height": 122
        }
      },
      "source": [
        "!pip install pygame"
      ],
      "execution_count": 1,
      "outputs": [
        {
          "output_type": "stream",
          "text": [
            "Collecting pygame\n",
            "\u001b[?25l  Downloading https://files.pythonhosted.org/packages/8e/24/ede6428359f913ed9cd1643dd5533aefeb5a2699cc95bea089de50ead586/pygame-1.9.6-cp36-cp36m-manylinux1_x86_64.whl (11.4MB)\n",
            "\u001b[K     |████████████████████████████████| 11.4MB 341kB/s \n",
            "\u001b[?25hInstalling collected packages: pygame\n",
            "Successfully installed pygame-1.9.6\n"
          ],
          "name": "stdout"
        }
      ]
    },
    {
      "cell_type": "code",
      "metadata": {
        "id": "JxKqzzfKT98O",
        "outputId": "e31bc2b9-ef4f-4a1c-c198-3334d8cb723f",
        "colab": {
          "base_uri": "https://localhost:8080/",
          "height": 130
        }
      },
      "source": [
        "import pygame\n",
        "import cv2\n",
        "from google.colab.patches import cv2_imshow\n",
        "from google.colab import output\n",
        "import time \n",
        "import os, sys\n",
        "os.environ[\"SDL_VIDEODRIVER\"] = \"dummy\"\n",
        "\n",
        "pygame.init()\n",
        "screen = pygame.display.set_mode((1200, 1000))\n",
        "done = False\n",
        "is_blue = True\n",
        "\n",
        "white = [255, 255, 255]\n",
        "rabbit_main = (219, 219, 219)\n",
        "eye = (149, 158, 215)\n",
        "black = (0, 0, 0)\n",
        "int_ear = (240, 154, 167)\n",
        "nose = (252, 180, 187)\n",
        "hand = (234, 224, 208)\n",
        "h=(234, 224, 208)\n",
        "\n",
        "screen.fill(white)\n",
        "\n",
        "r=40\n",
        "\n",
        "def legs(a, b):\n",
        "  '''\n",
        "  Рисует ножки-эллипсы\n",
        "  \n",
        "  ----------\n",
        "  Аргументы:\n",
        "\n",
        "  a, b: int\n",
        "      перегелий/апогелий эллипса(нижний) тела\n",
        "      \n",
        "      (a + 10, b - 20) - int - координаты левого верхнего угла  правой ноги\n",
        "      (a - 40, b - 20) - int - координаты левого верхнего угла  левой ноги\n",
        "  '''\n",
        "\n",
        "  pygame.draw.ellipse(screen, rabbit_main, (a + 10, b - 20, 30, 60)) #leg right\n",
        "  pygame.draw.ellipse(screen, rabbit_main, (a - 40, b - 20, 30, 60)) #leg left\n",
        "\n",
        "\n",
        "def hand(a, b):\n",
        "  '''\n",
        "  Рисует ручки-эллипсы\n",
        "  a,b - int - перегелий/апогелий эллипса(нижний) тела\n",
        "  (a + 15 , b - 160) - int - координаты левого верхнего угла  правой руки\n",
        "  (a - 45 , b - 160) - int - координаты левого верхнего угла  левой руки\n",
        "  '''\n",
        "  pygame.draw.ellipse(screen, eye, (a + 15 , b - 160 , 30 , 100)) #hand right\n",
        "  pygame.draw.ellipse(screen, eye, (a - 45 , b - 160 , 30 , 100)) #hand left\n",
        "\n",
        "\n",
        "def body(a, b):\n",
        "  '''\n",
        "  Рисует тело-эллипс\n",
        "  a,b - перегелий/апогелий эллипса(нижний) тела\n",
        "  a-60 - координата левого верхнего угла по х\n",
        "  b-200 - координата левого верхнего угла по у\n",
        "  120 - ширина\n",
        "  200 - высота\n",
        "  '''\n",
        "  pygame.draw.ellipse(screen, rabbit_main, (a - 60, b - 200, 120, 200))\n",
        "  legs(a,b)\n",
        "  hand(a,b)\n",
        "\n",
        "def eyes(a, b):\n",
        "  '''\n",
        "  Рисует глаза, как у Диснея \n",
        "  a,b - int - перегелий/апогелий эллипса(нижний) тела\n",
        "  r - int - радиус головы\n",
        "  (a + 5, b - 220 - r) - int - координаты левого верхнего угла внешего правого глаза\n",
        "  (a - 20, b - 220 - r) - int - координаты левого верхнего угла внешего левого глаза\n",
        "  (a + 5, b - 210 - r) - int - координаты левого верхнего угла внутреннего правого глаза\n",
        "  (a - 20, b - 210 - r) - int - координаты левого верхнего угла внутреннего левого глаза\n",
        "  (a + 12, b - 195 - r) - int - координаты левого верхнего угла точки правого глаза\n",
        "  (a - 12, b - 195 - r) - int - координаты левого верхнего угла точки левого глаза\n",
        "  '''\n",
        "  pygame.draw.ellipse(screen, eye, (a + 5, b - 220 - r, 15, 30)) #eye\n",
        "  pygame.draw.ellipse(screen, eye, (a - 20, b - 220 - r, 15, 30)) #eye\n",
        "  pygame.draw.ellipse(screen, white, (a + 5, b - 210 - r, 15, 20)) #eye\n",
        "  pygame.draw.ellipse(screen, white, (a - 20, b - 210 - r, 15, 20)) #eye\n",
        "  pygame.draw.circle(screen, black, (a + 12, b - 195 - r), r//10) #eye\n",
        "  pygame.draw.circle(screen, black, (a - 12, b - 195 - r), r//10) #eye\n",
        "\n",
        "def ears(a, b):\n",
        "  '''\n",
        "  Рисует  ушки-эллипсы \n",
        "  a,b -  int - перегелий/апогелий эллипса(нижний) \n",
        "  тела, r - int - радиус головы\n",
        "  (a + 7, b - 300 - r) - int - координаты левого верхнего угла внешего правого уха \n",
        "  (a - 27, b - 300 - r) - int - координаты левого верхнего угла внешего левого уха\n",
        "  (a + 10, b - 280 - r) - int - координаты левого верхнего угла внутреннего правого уха \n",
        "  (a - 24, b - 280 - r) - int - координаты левого верхнего угла внутренного левого уха\n",
        "\n",
        "  '''\n",
        "  pygame.draw.ellipse(screen, rabbit_main, (a + 7, b - 300 - r, 20, 80)) #ear right\n",
        "  pygame.draw.ellipse(screen, rabbit_main, (a - 27, b - 300 - r, 20, 80)) #ear left\n",
        "  pygame.draw.ellipse(screen, int_ear, (a + 10, b - 280 - r, 14, 40)) #int ear right\n",
        "  pygame.draw.ellipse(screen, int_ear, (a - 24, b - 280 - r, 14, 40)) #int ear left\n",
        "\n",
        "\n",
        "def head(a, b):\n",
        "  '''\n",
        "  Рисует голову\n",
        "   a,b - int - перегелий/апогелий эллипса(нижний) тела\n",
        "   r -  int- радиус головы\n",
        "   (a, b - 200 - r) - int -  координаты центра головы\n",
        "  '''\n",
        "  pygame.draw.circle(screen, rabbit_main, (a, b - 200 - r), r) #head\n",
        "  eyes(a,b)\n",
        "  ears(a,b)\n",
        "  pygame.draw.polygon(screen, nose, ([a - 2, b - 185 - r ], [a + 2, b - 185 - r ], [a + 5, b - 190 - r], [a - 5, b - 190 - r ])) #nose\n",
        "  pygame.draw.aalines(screen, black, False, [[a - 7, b - 180 - r ], [a, b - 175 - r], [a + 7, b - 180 - r]]) #smile\n",
        "\n",
        "def rabbit(a, b):\n",
        " body(a, b)\n",
        " head(a, b)\n",
        "\n",
        "\n",
        "\n",
        "\n",
        "x = 500\n",
        "y = 600\n",
        "\n",
        "while not done:\n",
        "        for event in pygame.event.get():\n",
        "                if event.type == pygame.QUIT:\n",
        "                        done = True\n",
        "        rabbit(x,y)\n",
        "        \n",
        "\n",
        "        pygame.display.flip()\n",
        "        view = pygame.surfarray.array3d(screen)\n",
        "        view = view.transpose([1, 0, 2])\n",
        "        img_bgr = cv2.cvtColor(view, cv2.COLOR_RGB2BGR)\n",
        "        cv2_imshow(img_bgr)\n",
        "        time.sleep(0.1)\n",
        "        output.clear()"
      ],
      "execution_count": 26,
      "outputs": [
        {
          "output_type": "error",
          "ename": "IndentationError",
          "evalue": "ignored",
          "traceback": [
            "\u001b[0;36m  File \u001b[0;32m\"<ipython-input-26-89383b7b6e11>\"\u001b[0;36m, line \u001b[0;32m57\u001b[0m\n\u001b[0;31m    pygame.draw.ellipse(screen, eye, (a + 5, b - 220 - r, 15, 30)) #eye\u001b[0m\n\u001b[0m                                                                       ^\u001b[0m\n\u001b[0;31mIndentationError\u001b[0m\u001b[0;31m:\u001b[0m unindent does not match any outer indentation level\n"
          ]
        }
      ]
    },
    {
      "cell_type": "code",
      "metadata": {
        "id": "knFha39jcWL9"
      },
      "source": [
        ""
      ],
      "execution_count": null,
      "outputs": []
    }
  ]
}
