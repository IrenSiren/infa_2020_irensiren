{
  "nbformat": 4,
  "nbformat_minor": 0,
  "metadata": {
    "colab": {
      "name": "Untitled8.ipynb",
      "provenance": [],
      "collapsed_sections": [],
      "authorship_tag": "ABX9TyOPfIL16pg764D/IUf4CHO9",
      "include_colab_link": true
    },
    "kernelspec": {
      "name": "python3",
      "display_name": "Python 3"
    }
  },
  "cells": [
    {
      "cell_type": "markdown",
      "metadata": {
        "id": "view-in-github",
        "colab_type": "text"
      },
      "source": [
        "<a href=\"https://colab.research.google.com/github/IrenSiren/infa_2020_irensiren/blob/master/Untitled8.ipynb\" target=\"_parent\"><img src=\"https://colab.research.google.com/assets/colab-badge.svg\" alt=\"Open In Colab\"/></a>"
      ]
    },
    {
      "cell_type": "code",
      "metadata": {
        "id": "KYTVeH1mKi12",
        "outputId": "ac564191-771f-4d08-9041-2954e168265b",
        "colab": {
          "base_uri": "https://localhost:8080/",
          "height": 122
        }
      },
      "source": [
        "!pip install pygame"
      ],
      "execution_count": null,
      "outputs": [
        {
          "output_type": "stream",
          "text": [
            "Collecting pygame\n",
            "\u001b[?25l  Downloading https://files.pythonhosted.org/packages/8e/24/ede6428359f913ed9cd1643dd5533aefeb5a2699cc95bea089de50ead586/pygame-1.9.6-cp36-cp36m-manylinux1_x86_64.whl (11.4MB)\n",
            "\u001b[K     |████████████████████████████████| 11.4MB 2.7MB/s \n",
            "\u001b[?25hInstalling collected packages: pygame\n",
            "Successfully installed pygame-1.9.6\n"
          ],
          "name": "stdout"
        }
      ]
    },
    {
      "cell_type": "code",
      "metadata": {
        "id": "4BmUfA1zMh8L"
      },
      "source": [
        "import pygame\n",
        "import cv2\n",
        "from google.colab.patches import cv2_imshow\n",
        "from google.colab import output\n",
        "import time \n",
        "import os, sys\n",
        "os.environ[\"SDL_VIDEODRIVER\"] = \"dummy\"\n",
        "\n",
        "pygame.init()\n",
        "screen = pygame.display.set_mode((1200, 1000))\n",
        "done = False\n",
        "is_blue = True\n",
        "white = [109, 193, 255]\n",
        "screen.fill(white)\n",
        "\n",
        "r=40\n",
        "def girl_1(a,b,k):\n",
        "      s=130*k\n",
        "      pygame.draw.polygon(screen, dress, ([a + s - 80, b ], [a + s + 80, b ], [a + s, b -200]))\n",
        "      pygame.draw.circle(screen, skin_l, (a + s, b-200), r )\n",
        "      pygame.draw.line(screen , black,(a + s + 20, b - 130), (a + s + 130, b - 60)) #long arm\n",
        "      pygame.draw.line(screen, black,(a + s - 20, b - 130), (a + s  - 80, b - 90)) #short arm\n",
        "      pygame.draw.line( screen, black,(a + s - 80, b - 90), (a + s - 130, b - 130 )) #short\n",
        "      pygame.draw.line( screen, black,(a + s - 20, b), (a + s - 20, b + 80 ))\n",
        "      pygame.draw.line( screen, black,(a + s + 20, b), (a + s + 20, b + 80 ))\n",
        "      pygame.draw.line( screen, black,(a + s - 40, b+80), (a + s - 20, b + 80 ))\n",
        "      pygame.draw.line( screen, black,(a + s + 20, b+80 ), (a + s + 40, b + 80 ))\n",
        "def girl_2(a,b,k):\n",
        "      s=130*k\n",
        "      pygame.draw.polygon(screen, dress, ([a + s - 80, b ], [a + s + 80, b ], [a + s, b -200]))\n",
        "      pygame.draw.circle(screen, skin_l, (a + s, b-200), r )\n",
        "      pygame.draw.line(screen , black,(a + s - 20, b - 130), (a + s - 130, b - 60)) #long arm\n",
        "      pygame.draw.line(screen, black,(a + s + 20, b - 130), (a + s  + 80, b - 90)) #short arm\n",
        "      pygame.draw.line( screen, black,(a + s + 80, b - 90), (a + s + 130, b - 130 )) #short\n",
        "      pygame.draw.line( screen, black,(a + s - 20, b), (a + s - 20, b + 80 ))\n",
        "      pygame.draw.line( screen, black,(a + s + 20, b), (a + s + 20, b + 80 ))\n",
        "      pygame.draw.line( screen, black,(a + s - 40, b+80), (a + s - 20, b + 80 ))\n",
        "      pygame.draw.line( screen, black,(a + s + 20, b+80 ), (a + s + 40, b + 80 ))\n",
        "def boy(a,b,k):\n",
        "  s=k*130\n",
        "  pygame.draw.ellipse(screen, boys , pygame.Rect(a + s - 50, b-200 , 100, 200))\n",
        "  pygame.draw.circle(screen, skin_d, (a + s, b-210), r )\n",
        "  pygame.draw.line( screen, black,(a + s - 20, b-15), (a + s - 20, b + 80 ))\n",
        "  pygame.draw.line( screen, black,(a + s + 20, b-15), (a + s + 20, b + 80 ))\n",
        "  pygame.draw.line( screen, black,(a + s - 40, b+80), (a + s - 20, b + 80 ))\n",
        "  pygame.draw.line( screen, black,(a + s + 20, b+80 ), (a + s + 40, b + 80 ))\n",
        "  pygame.draw.line(screen , black,(a + s - 20, b - 130), (a + s - 130, b - 60))\n",
        "  pygame.draw.line(screen , black,(a + s + 20, b - 130), (a + s + 130, b - 60))\n",
        "def ice(a,b):\n",
        "  pygame.draw.polygon(screen, ic, ([a, b], [a + 40, b-100 ], [a - 40 , b - 100]))\n",
        "  pygame.draw.circle(screen, (112, 213, 197), (a + 20, b-110), r//2 )\n",
        "  pygame.draw.circle(screen, (241, 206, 18), (a - 20, b - 110), r//2 )\n",
        "  pygame.draw.circle(screen, (212, 104, 185), (a, b - 140), r//2 )\n",
        "def love(a,b):\n",
        "  pygame.draw.polygon(screen, (252, 180, 187), ([a, b], [a + 30, b-60 ], [a - 30 , b - 60]))\n",
        "  pygame.draw.circle(screen, (252, 180, 187), (a - 15, b - 60), 15 )\n",
        "  pygame.draw.circle(screen, (252, 180, 187), (a + 15 , b - 60), 15 )\n",
        "\n",
        "\n",
        " \n",
        "\n",
        "\n",
        "      \n",
        "x=200\n",
        "y=700\n",
        "ic=(201, 153, 126)\n",
        "skin_l=(224, 172, 105)\n",
        "skin_d=(204, 154, 108)\n",
        "black=(0, 0, 0)\n",
        "dress=(210, 145, 188)\n",
        "boys=(178, 221, 255)\n",
        "yel=(255, 255, 0)\n",
        "blue=(0,255,255)\n",
        "grass=(186, 238, 145)\n",
        "while not done:\n",
        "        for event in pygame.event.get():\n",
        "                if event.type == pygame.QUIT:\n",
        "                        done = True\n",
        "        pygame.draw.rect(screen, grass , (0,600,1200,600))\n",
        "        girl_1(x,y,4)\n",
        "        girl_2(x,y,2)\n",
        "        boy(x,y,6)\n",
        "        boy(x,y,0)\n",
        "        pygame.draw.line(screen , black,(590, 570), (590, 400))\n",
        "        ice(590,400)\n",
        "        ice(1110, 640)\n",
        "        love (70,640)\n",
        "\n",
        "\n",
        "        \n",
        "        pygame.display.flip()\n",
        "        view = pygame.surfarray.array3d(screen)\n",
        "        view = view.transpose([1, 0, 2])\n",
        "        img_bgr = cv2.cvtColor(view, cv2.COLOR_RGB2BGR)\n",
        "        cv2_imshow(img_bgr)\n",
        "        time.sleep(0.1)\n",
        "        output.clear()"
      ],
      "execution_count": null,
      "outputs": []
    }
  ]
}
